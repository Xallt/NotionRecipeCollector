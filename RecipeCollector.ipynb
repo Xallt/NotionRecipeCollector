{
 "cells": [
  {
   "cell_type": "code",
   "execution_count": 1,
   "metadata": {},
   "outputs": [],
   "source": [
    "import requests\n",
    "import os\n",
    "\n",
    "NOTION_API_KEY = <your_key>\n",
    "COOKING_ID = \"013eb25bb1444da6a8a842fba94b3f0e\""
   ]
  },
  {
   "cell_type": "code",
   "execution_count": 2,
   "metadata": {},
   "outputs": [],
   "source": [
    "db_data = requests.post(\n",
    "    f\"https://api.notion.com/v1/databases/{COOKING_ID}/query\",\n",
    "    headers={\n",
    "        \"Authorization\": f\"Bearer {NOTION_API_KEY}\",\n",
    "        \"Notion-Version\": \"2022-06-28\",\n",
    "        \"Content-Type\": \"application/json\",\n",
    "    },\n",
    ").json()"
   ]
  },
  {
   "cell_type": "code",
   "execution_count": 13,
   "metadata": {},
   "outputs": [
    {
     "name": "stdout",
     "output_type": "stream",
     "text": [
      "Карбонара 070bc3c1-b37a-4e04-ad1a-ba9311eea771\n"
     ]
    }
   ],
   "source": [
    "recipe_data = db_data['results'][0]\n",
    "recipe_properties = recipe_data['properties']\n",
    "recipe_name = recipe_properties['Name']['title'][0]['plain_text']\n",
    "print(recipe_name, recipe_data['id'])"
   ]
  },
  {
   "cell_type": "code",
   "execution_count": 16,
   "metadata": {},
   "outputs": [
    {
     "data": {
      "text/plain": [
       "'https://api.notion.com/v1/blocks/070bc3c1-b37a-4e04-ad1a-ba9311eea771/children'"
      ]
     },
     "execution_count": 16,
     "metadata": {},
     "output_type": "execute_result"
    }
   ],
   "source": [
    "f\"https://api.notion.com/v1/blocks/{recipe_data['id']}/children\""
   ]
  },
  {
   "cell_type": "code",
   "execution_count": 42,
   "metadata": {},
   "outputs": [],
   "source": [
    "def get_recipe_text(recipe_id):\n",
    "    recipe_page_data = requests.get(\n",
    "        f\"https://api.notion.com/v1/blocks/{recipe_id}/children\",\n",
    "        headers={\n",
    "            \"Authorization\": f\"Bearer {NOTION_API_KEY}\",\n",
    "            \"Notion-Version\": \"2022-06-28\",\n",
    "        },\n",
    "    ).json()\n",
    "\n",
    "    content_lines = []\n",
    "\n",
    "    for block in recipe_page_data['results']:\n",
    "        block_type = block['type']\n",
    "        assert block_type in ['paragraph', 'bulleted_list_item'], f\"Can't handle {block_type} yet\"\n",
    "        \n",
    "        block_rich_text = block[block_type]['rich_text']\n",
    "        if len(block_rich_text) == 0:\n",
    "            content_lines.append('')\n",
    "            continue\n",
    "\n",
    "        cur_line = ''\n",
    "        if block_type == 'bulleted_list_item':\n",
    "            cur_line += '- '\n",
    "        cur_line += block_rich_text[0]['plain_text']\n",
    "        content_lines.append(cur_line)\n",
    "    \n",
    "    return '\\n'.join(content_lines)"
   ]
  },
  {
   "cell_type": "code",
   "execution_count": 44,
   "metadata": {},
   "outputs": [
    {
     "name": "stdout",
     "output_type": "stream",
     "text": [
      "Бекона нарезать и обжарить\n",
      "(тонкие куски жарятся быстрее, куски потолще надо жарить на медленном и подольше)\n",
      "Отварить макарошки (за ~минуту до полной готовности), взять кружку крахмальной воды\n",
      "Макарошки в дуршлаг, потом к нагретому бекону, немного пожарить их так, потом залить крахмальной водой\n",
      "Это залить соусом карбонарным (2/3 блока пармезана к 3 желткам и 1 яйцу)\n",
      "\n",
      "Маша любит:\n",
      "- Бекон не слишком угольки\n",
      "- Сыра побольше\n",
      "- ЖИР ИЗ БЕКОНА УБРАТЬ\n",
      "- Макарошки желательно мелкие трубочки. А если спагетти, то в 4x укоротить \n"
     ]
    }
   ],
   "source": [
    "print(get_recipe_text(recipe_data['id']))"
   ]
  }
 ],
 "metadata": {
  "kernelspec": {
   "display_name": "python38",
   "language": "python",
   "name": "python3"
  },
  "language_info": {
   "codemirror_mode": {
    "name": "ipython",
    "version": 3
   },
   "file_extension": ".py",
   "mimetype": "text/x-python",
   "name": "python",
   "nbconvert_exporter": "python",
   "pygments_lexer": "ipython3",
   "version": "3.8.10"
  }
 },
 "nbformat": 4,
 "nbformat_minor": 2
}
